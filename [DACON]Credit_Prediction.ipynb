{
 "cells": [
  {
   "cell_type": "code",
   "execution_count": 181,
   "metadata": {},
   "outputs": [],
   "source": [
    "import numpy as np\n",
    "import matplotlib.pyplot as plt\n",
    "import seaborn as sns\n",
    "import pandas as pd\n",
    "\n",
    "from sklearn.model_selection import train_test_split\n",
    "from sklearn.preprocessing import StandardScaler, OrdinalEncoder,OneHotEncoder, RobustScaler\n",
    "from sklearn.cluster import KMeans\n",
    "from sklearn.metrics import log_loss\n",
    "\n",
    "from catboost import CatBoostClassifier, Pool\n",
    "from sklearn.ensemble import RandomForestClassifier\n",
    "\n",
    "from sklearn.model_selection import StratifiedKFold\n",
    "from sklearn.metrics import confusion_matrix, accuracy_score, roc_curve, classification_report"
   ]
  },
  {
   "cell_type": "code",
   "execution_count": 126,
   "metadata": {},
   "outputs": [],
   "source": [
    "train = pd.read_csv(\"train.csv\")\n",
    "test = pd.read_csv(\"test.csv\")"
   ]
  },
  {
   "cell_type": "code",
   "execution_count": 127,
   "metadata": {},
   "outputs": [
    {
     "data": {
      "text/html": [
       "<div>\n",
       "<style scoped>\n",
       "    .dataframe tbody tr th:only-of-type {\n",
       "        vertical-align: middle;\n",
       "    }\n",
       "\n",
       "    .dataframe tbody tr th {\n",
       "        vertical-align: top;\n",
       "    }\n",
       "\n",
       "    .dataframe thead th {\n",
       "        text-align: right;\n",
       "    }\n",
       "</style>\n",
       "<table border=\"1\" class=\"dataframe\">\n",
       "  <thead>\n",
       "    <tr style=\"text-align: right;\">\n",
       "      <th></th>\n",
       "      <th>index</th>\n",
       "      <th>gender</th>\n",
       "      <th>car</th>\n",
       "      <th>reality</th>\n",
       "      <th>child_num</th>\n",
       "      <th>income_total</th>\n",
       "      <th>income_type</th>\n",
       "      <th>edu_type</th>\n",
       "      <th>family_type</th>\n",
       "      <th>house_type</th>\n",
       "      <th>DAYS_BIRTH</th>\n",
       "      <th>DAYS_EMPLOYED</th>\n",
       "      <th>FLAG_MOBIL</th>\n",
       "      <th>work_phone</th>\n",
       "      <th>phone</th>\n",
       "      <th>email</th>\n",
       "      <th>occyp_type</th>\n",
       "      <th>family_size</th>\n",
       "      <th>begin_month</th>\n",
       "      <th>credit</th>\n",
       "    </tr>\n",
       "  </thead>\n",
       "  <tbody>\n",
       "    <tr>\n",
       "      <th>0</th>\n",
       "      <td>0</td>\n",
       "      <td>F</td>\n",
       "      <td>N</td>\n",
       "      <td>N</td>\n",
       "      <td>0</td>\n",
       "      <td>202500.0</td>\n",
       "      <td>Commercial associate</td>\n",
       "      <td>Higher education</td>\n",
       "      <td>Married</td>\n",
       "      <td>Municipal apartment</td>\n",
       "      <td>-13899</td>\n",
       "      <td>-4709</td>\n",
       "      <td>1</td>\n",
       "      <td>0</td>\n",
       "      <td>0</td>\n",
       "      <td>0</td>\n",
       "      <td>NaN</td>\n",
       "      <td>2.0</td>\n",
       "      <td>-6.0</td>\n",
       "      <td>1.0</td>\n",
       "    </tr>\n",
       "    <tr>\n",
       "      <th>1</th>\n",
       "      <td>1</td>\n",
       "      <td>F</td>\n",
       "      <td>N</td>\n",
       "      <td>Y</td>\n",
       "      <td>1</td>\n",
       "      <td>247500.0</td>\n",
       "      <td>Commercial associate</td>\n",
       "      <td>Secondary / secondary special</td>\n",
       "      <td>Civil marriage</td>\n",
       "      <td>House / apartment</td>\n",
       "      <td>-11380</td>\n",
       "      <td>-1540</td>\n",
       "      <td>1</td>\n",
       "      <td>0</td>\n",
       "      <td>0</td>\n",
       "      <td>1</td>\n",
       "      <td>Laborers</td>\n",
       "      <td>3.0</td>\n",
       "      <td>-5.0</td>\n",
       "      <td>1.0</td>\n",
       "    </tr>\n",
       "    <tr>\n",
       "      <th>2</th>\n",
       "      <td>2</td>\n",
       "      <td>M</td>\n",
       "      <td>Y</td>\n",
       "      <td>Y</td>\n",
       "      <td>0</td>\n",
       "      <td>450000.0</td>\n",
       "      <td>Working</td>\n",
       "      <td>Higher education</td>\n",
       "      <td>Married</td>\n",
       "      <td>House / apartment</td>\n",
       "      <td>-19087</td>\n",
       "      <td>-4434</td>\n",
       "      <td>1</td>\n",
       "      <td>0</td>\n",
       "      <td>1</td>\n",
       "      <td>0</td>\n",
       "      <td>Managers</td>\n",
       "      <td>2.0</td>\n",
       "      <td>-22.0</td>\n",
       "      <td>2.0</td>\n",
       "    </tr>\n",
       "    <tr>\n",
       "      <th>3</th>\n",
       "      <td>3</td>\n",
       "      <td>F</td>\n",
       "      <td>N</td>\n",
       "      <td>Y</td>\n",
       "      <td>0</td>\n",
       "      <td>202500.0</td>\n",
       "      <td>Commercial associate</td>\n",
       "      <td>Secondary / secondary special</td>\n",
       "      <td>Married</td>\n",
       "      <td>House / apartment</td>\n",
       "      <td>-15088</td>\n",
       "      <td>-2092</td>\n",
       "      <td>1</td>\n",
       "      <td>0</td>\n",
       "      <td>1</td>\n",
       "      <td>0</td>\n",
       "      <td>Sales staff</td>\n",
       "      <td>2.0</td>\n",
       "      <td>-37.0</td>\n",
       "      <td>0.0</td>\n",
       "    </tr>\n",
       "    <tr>\n",
       "      <th>4</th>\n",
       "      <td>4</td>\n",
       "      <td>F</td>\n",
       "      <td>Y</td>\n",
       "      <td>Y</td>\n",
       "      <td>0</td>\n",
       "      <td>157500.0</td>\n",
       "      <td>State servant</td>\n",
       "      <td>Higher education</td>\n",
       "      <td>Married</td>\n",
       "      <td>House / apartment</td>\n",
       "      <td>-15037</td>\n",
       "      <td>-2105</td>\n",
       "      <td>1</td>\n",
       "      <td>0</td>\n",
       "      <td>0</td>\n",
       "      <td>0</td>\n",
       "      <td>Managers</td>\n",
       "      <td>2.0</td>\n",
       "      <td>-26.0</td>\n",
       "      <td>2.0</td>\n",
       "    </tr>\n",
       "  </tbody>\n",
       "</table>\n",
       "</div>"
      ],
      "text/plain": [
       "   index gender car reality  child_num  income_total           income_type  \\\n",
       "0      0      F   N       N          0      202500.0  Commercial associate   \n",
       "1      1      F   N       Y          1      247500.0  Commercial associate   \n",
       "2      2      M   Y       Y          0      450000.0               Working   \n",
       "3      3      F   N       Y          0      202500.0  Commercial associate   \n",
       "4      4      F   Y       Y          0      157500.0         State servant   \n",
       "\n",
       "                        edu_type     family_type           house_type  \\\n",
       "0               Higher education         Married  Municipal apartment   \n",
       "1  Secondary / secondary special  Civil marriage    House / apartment   \n",
       "2               Higher education         Married    House / apartment   \n",
       "3  Secondary / secondary special         Married    House / apartment   \n",
       "4               Higher education         Married    House / apartment   \n",
       "\n",
       "   DAYS_BIRTH  DAYS_EMPLOYED  FLAG_MOBIL  work_phone  phone  email  \\\n",
       "0      -13899          -4709           1           0      0      0   \n",
       "1      -11380          -1540           1           0      0      1   \n",
       "2      -19087          -4434           1           0      1      0   \n",
       "3      -15088          -2092           1           0      1      0   \n",
       "4      -15037          -2105           1           0      0      0   \n",
       "\n",
       "    occyp_type  family_size  begin_month  credit  \n",
       "0          NaN          2.0         -6.0     1.0  \n",
       "1     Laborers          3.0         -5.0     1.0  \n",
       "2     Managers          2.0        -22.0     2.0  \n",
       "3  Sales staff          2.0        -37.0     0.0  \n",
       "4     Managers          2.0        -26.0     2.0  "
      ]
     },
     "execution_count": 127,
     "metadata": {},
     "output_type": "execute_result"
    }
   ],
   "source": [
    "train.head(5)"
   ]
  },
  {
   "cell_type": "code",
   "execution_count": 128,
   "metadata": {},
   "outputs": [
    {
     "data": {
      "text/plain": [
       "(26457, 20)"
      ]
     },
     "execution_count": 128,
     "metadata": {},
     "output_type": "execute_result"
    }
   ],
   "source": [
    "train.shape"
   ]
  },
  {
   "cell_type": "code",
   "execution_count": 129,
   "metadata": {},
   "outputs": [
    {
     "data": {
      "text/plain": [
       "Index(['index', 'gender', 'car', 'reality', 'child_num', 'income_total',\n",
       "       'income_type', 'edu_type', 'family_type', 'house_type', 'DAYS_BIRTH',\n",
       "       'DAYS_EMPLOYED', 'FLAG_MOBIL', 'work_phone', 'phone', 'email',\n",
       "       'occyp_type', 'family_size', 'begin_month', 'credit'],\n",
       "      dtype='object')"
      ]
     },
     "execution_count": 129,
     "metadata": {},
     "output_type": "execute_result"
    }
   ],
   "source": [
    "train.columns"
   ]
  },
  {
   "cell_type": "code",
   "execution_count": 130,
   "metadata": {},
   "outputs": [
    {
     "data": {
      "text/plain": [
       "<matplotlib.axes._subplots.AxesSubplot at 0x7fcc2c63e490>"
      ]
     },
     "execution_count": 130,
     "metadata": {},
     "output_type": "execute_result"
    },
    {
     "data": {
      "image/png": "[encoded data removed]",
      "text/plain": [
       "<Figure size 432x288 with 1 Axes>"
      ]
     },
     "metadata": {
      "needs_background": "light"
     },
     "output_type": "display_data"
    }
   ],
   "source": [
    "sns.histplot(train.credit)"
   ]
  },
  {
   "cell_type": "code",
   "execution_count": 131,
   "metadata": {},
   "outputs": [
    {
     "data": {
      "text/plain": [
       "([<matplotlib.patches.Wedge at 0x7fcc2d199b10>,\n",
       "  <matplotlib.patches.Wedge at 0x7fcc2dae5290>,\n",
       "  <matplotlib.patches.Wedge at 0x7fcc2dae5ad0>],\n",
       " [Text(-0.4725510999727826, 0.9933254541762802, '2.0'),\n",
       "  Text(0.06755226441625439, -1.0979238095479287, '1.0'),\n",
       "  Text(1.0204705316112848, -0.41065787964311823, '0.0')],\n",
       " [Text(-0.2577551454396996, 0.5418138840961527, '64.1%'),\n",
       "  Text(0.0368466896815933, -0.5988675324806884, '23.7%'),\n",
       "  Text(0.5566202899697916, -0.22399520707806447, '12.2%')])"
      ]
     },
     "execution_count": 131,
     "metadata": {},
     "output_type": "execute_result"
    },
    {
     "data": {
      "image/png": "[encoded data removed]",
      "text/plain": [
       "<Figure size 432x288 with 1 Axes>"
      ]
     },
     "metadata": {},
     "output_type": "display_data"
    }
   ],
   "source": [
    "plt.pie(train.credit.value_counts(),autopct=\"%1.1f%%\",labels=train.credit.value_counts().keys() )"
   ]
  },
  {
   "cell_type": "code",
   "execution_count": 132,
   "metadata": {},
   "outputs": [
    {
     "data": {
      "image/png": "[encoded data removed]",
      "text/plain": [
       "<Figure size 1440x720 with 1 Axes>"
      ]
     },
     "metadata": {},
     "output_type": "display_data"
    }
   ],
   "source": [
    "plt.figure(figsize=(20,10), facecolor='w')\n",
    "sns.boxplot(data=train)\n",
    "plt.show()"
   ]
  },
  {
   "cell_type": "markdown",
   "metadata": {},
   "source": [
    "### DAYS_EMPLOYED feature"
   ]
  },
  {
   "cell_type": "code",
   "execution_count": 133,
   "metadata": {},
   "outputs": [
    {
     "data": {
      "image/png": "[encoded data removed]",
      "text/plain": [
       "<Figure size 360x360 with 1 Axes>"
      ]
     },
     "metadata": {},
     "output_type": "display_data"
    }
   ],
   "source": [
    "plt.figure(figsize=(5,5), facecolor='w')\n",
    "sns.boxplot(data=train.DAYS_EMPLOYED)\n",
    "plt.show()"
   ]
  },
  {
   "cell_type": "code",
   "execution_count": 134,
   "metadata": {},
   "outputs": [
    {
     "data": {
      "text/plain": [
       "14       365243\n",
       "18       365243\n",
       "21       365243\n",
       "24       365243\n",
       "46       365243\n",
       "          ...  \n",
       "26431    365243\n",
       "26432    365243\n",
       "26439    365243\n",
       "26441    365243\n",
       "26443    365243\n",
       "Name: DAYS_EMPLOYED, Length: 4438, dtype: int64"
      ]
     },
     "execution_count": 134,
     "metadata": {},
     "output_type": "execute_result"
    }
   ],
   "source": [
    "train[train.DAYS_EMPLOYED>=0].DAYS_EMPLOYED"
   ]
  },
  {
   "cell_type": "code",
   "execution_count": 135,
   "metadata": {},
   "outputs": [
    {
     "data": {
      "text/plain": [
       "array([365243])"
      ]
     },
     "execution_count": 135,
     "metadata": {},
     "output_type": "execute_result"
    }
   ],
   "source": [
    "train[train.DAYS_EMPLOYED>=0].DAYS_EMPLOYED.unique()"
   ]
  },
  {
   "cell_type": "code",
   "execution_count": 136,
   "metadata": {},
   "outputs": [
    {
     "data": {
      "text/plain": [
       "array([nan], dtype=object)"
      ]
     },
     "execution_count": 136,
     "metadata": {},
     "output_type": "execute_result"
    }
   ],
   "source": [
    "train[train.DAYS_EMPLOYED>=0].occyp_type.unique()"
   ]
  },
  {
   "cell_type": "markdown",
   "metadata": {},
   "source": [
    "- 고용된 날짜가 양수인 경우 현재 무직으로 볼 수 있지만 모든 데이터가 365243으로 100년 이상이다.\n",
    "- 또한 고용 날짜가 양수인 모든 고용타입이 NaN으로 되어있다.\n",
    "- 365243은 너무 큰 수이므로 0으로 변환해 준다."
   ]
  },
  {
   "cell_type": "code",
   "execution_count": 137,
   "metadata": {},
   "outputs": [],
   "source": [
    "train.DAYS_EMPLOYED = train.DAYS_EMPLOYED.map(lambda x: 0 if x > 0 else x)"
   ]
  },
  {
   "cell_type": "code",
   "execution_count": 138,
   "metadata": {},
   "outputs": [
    {
     "data": {
      "image/png": "[encoded data removed]",
      "text/plain": [
       "<Figure size 360x360 with 1 Axes>"
      ]
     },
     "metadata": {},
     "output_type": "display_data"
    }
   ],
   "source": [
    "plt.figure(figsize=(5,5), facecolor='w')\n",
    "sns.boxplot(data=train.DAYS_EMPLOYED)\n",
    "plt.show()"
   ]
  },
  {
   "cell_type": "code",
   "execution_count": 139,
   "metadata": {},
   "outputs": [
    {
     "data": {
      "text/plain": [
       "Series([], Name: DAYS_EMPLOYED, dtype: int64)"
      ]
     },
     "execution_count": 139,
     "metadata": {},
     "output_type": "execute_result"
    }
   ],
   "source": [
    "train[train.DAYS_EMPLOYED>0].DAYS_EMPLOYED"
   ]
  },
  {
   "cell_type": "markdown",
   "metadata": {},
   "source": [
    "### FLAG_MOBIL feature"
   ]
  },
  {
   "cell_type": "code",
   "execution_count": 140,
   "metadata": {},
   "outputs": [
    {
     "data": {
      "text/plain": [
       "array([1])"
      ]
     },
     "execution_count": 140,
     "metadata": {},
     "output_type": "execute_result"
    }
   ],
   "source": [
    "train.FLAG_MOBIL.unique()"
   ]
  },
  {
   "cell_type": "markdown",
   "metadata": {},
   "source": [
    "- FLAG_MOBIL 은 모두 1을 가지고 있으므로 삭제"
   ]
  },
  {
   "cell_type": "code",
   "execution_count": 141,
   "metadata": {},
   "outputs": [],
   "source": [
    "train.drop(['FLAG_MOBIL'], axis=1, inplace=True)"
   ]
  },
  {
   "cell_type": "code",
   "execution_count": 142,
   "metadata": {},
   "outputs": [
    {
     "data": {
      "text/plain": [
       "0"
      ]
     },
     "execution_count": 142,
     "metadata": {},
     "output_type": "execute_result"
    }
   ],
   "source": [
    "train.duplicated().sum()"
   ]
  },
  {
   "cell_type": "code",
   "execution_count": 143,
   "metadata": {},
   "outputs": [
    {
     "data": {
      "text/plain": [
       "(26457, 19)"
      ]
     },
     "execution_count": 143,
     "metadata": {},
     "output_type": "execute_result"
    }
   ],
   "source": [
    "train.shape"
   ]
  },
  {
   "cell_type": "markdown",
   "metadata": {},
   "source": [
    "### family_size feature"
   ]
  },
  {
   "cell_type": "code",
   "execution_count": 144,
   "metadata": {},
   "outputs": [
    {
     "data": {
      "image/png": "[encoded data removed]",
      "text/plain": [
       "<Figure size 360x360 with 1 Axes>"
      ]
     },
     "metadata": {},
     "output_type": "display_data"
    }
   ],
   "source": [
    "plt.figure(figsize=(5,5), facecolor='w')\n",
    "sns.boxplot(data=[train.family_size])\n",
    "plt.show()"
   ]
  },
  {
   "cell_type": "code",
   "execution_count": 145,
   "metadata": {},
   "outputs": [
    {
     "data": {
      "text/plain": [
       "[20.0, 15.0, 15.0, 15.0, 9.0, 9.0, 7.0, 7.0, 7.0, 7.0, 7.0, 7.0, 7.0, 7.0, 7.0]"
      ]
     },
     "execution_count": 145,
     "metadata": {},
     "output_type": "execute_result"
    }
   ],
   "source": [
    "sorted(train.family_size, reverse=True)[:15]"
   ]
  },
  {
   "cell_type": "markdown",
   "metadata": {},
   "source": [
    "- 가족 규모가 20명인 경우가 있을 수 있지만 대부분 7 이하인 것을 확인할 수 있다.\n",
    "- 7이상인 데이터는 이상치로 판단하고 지워준다."
   ]
  },
  {
   "cell_type": "code",
   "execution_count": 146,
   "metadata": {},
   "outputs": [],
   "source": [
    "train = train[train.family_size<8]"
   ]
  },
  {
   "cell_type": "code",
   "execution_count": 147,
   "metadata": {},
   "outputs": [
    {
     "data": {
      "image/png": "[encoded data removed]",
      "text/plain": [
       "<Figure size 360x360 with 1 Axes>"
      ]
     },
     "metadata": {},
     "output_type": "display_data"
    }
   ],
   "source": [
    "plt.figure(figsize=(5,5), facecolor='w')\n",
    "sns.boxplot(data=[train.family_size])\n",
    "plt.show()"
   ]
  },
  {
   "cell_type": "code",
   "execution_count": 148,
   "metadata": {},
   "outputs": [
    {
     "data": {
      "text/plain": [
       "(26451, 19)"
      ]
     },
     "execution_count": 148,
     "metadata": {},
     "output_type": "execute_result"
    }
   ],
   "source": [
    "train.shape"
   ]
  },
  {
   "cell_type": "markdown",
   "metadata": {},
   "source": [
    "### child_num featrue"
   ]
  },
  {
   "cell_type": "code",
   "execution_count": 149,
   "metadata": {},
   "outputs": [
    {
     "data": {
      "image/png": "[encoded data removed]",
      "text/plain": [
       "<Figure size 360x360 with 1 Axes>"
      ]
     },
     "metadata": {},
     "output_type": "display_data"
    }
   ],
   "source": [
    "plt.figure(figsize=(5,5), facecolor='w')\n",
    "sns.boxplot(data=[train.child_num])\n",
    "plt.show()"
   ]
  },
  {
   "cell_type": "code",
   "execution_count": 150,
   "metadata": {},
   "outputs": [
    {
     "data": {
      "text/html": [
       "<div>\n",
       "<style scoped>\n",
       "    .dataframe tbody tr th:only-of-type {\n",
       "        vertical-align: middle;\n",
       "    }\n",
       "\n",
       "    .dataframe tbody tr th {\n",
       "        vertical-align: top;\n",
       "    }\n",
       "\n",
       "    .dataframe thead th {\n",
       "        text-align: right;\n",
       "    }\n",
       "</style>\n",
       "<table border=\"1\" class=\"dataframe\">\n",
       "  <thead>\n",
       "    <tr style=\"text-align: right;\">\n",
       "      <th></th>\n",
       "      <th>index</th>\n",
       "      <th>gender</th>\n",
       "      <th>car</th>\n",
       "      <th>reality</th>\n",
       "      <th>child_num</th>\n",
       "      <th>income_total</th>\n",
       "      <th>income_type</th>\n",
       "      <th>edu_type</th>\n",
       "      <th>family_type</th>\n",
       "      <th>house_type</th>\n",
       "      <th>DAYS_BIRTH</th>\n",
       "      <th>DAYS_EMPLOYED</th>\n",
       "      <th>work_phone</th>\n",
       "      <th>phone</th>\n",
       "      <th>email</th>\n",
       "      <th>occyp_type</th>\n",
       "      <th>family_size</th>\n",
       "      <th>begin_month</th>\n",
       "      <th>credit</th>\n",
       "    </tr>\n",
       "  </thead>\n",
       "  <tbody>\n",
       "    <tr>\n",
       "      <th>14900</th>\n",
       "      <td>14900</td>\n",
       "      <td>M</td>\n",
       "      <td>Y</td>\n",
       "      <td>N</td>\n",
       "      <td>2</td>\n",
       "      <td>225000.0</td>\n",
       "      <td>Working</td>\n",
       "      <td>Secondary / secondary special</td>\n",
       "      <td>Married</td>\n",
       "      <td>House / apartment</td>\n",
       "      <td>-14776</td>\n",
       "      <td>-2212</td>\n",
       "      <td>0</td>\n",
       "      <td>0</td>\n",
       "      <td>0</td>\n",
       "      <td>Drivers</td>\n",
       "      <td>1.0</td>\n",
       "      <td>-30.0</td>\n",
       "      <td>2.0</td>\n",
       "    </tr>\n",
       "  </tbody>\n",
       "</table>\n",
       "</div>"
      ],
      "text/plain": [
       "       index gender car reality  child_num  income_total income_type  \\\n",
       "14900  14900      M   Y       N          2      225000.0     Working   \n",
       "\n",
       "                            edu_type family_type         house_type  \\\n",
       "14900  Secondary / secondary special     Married  House / apartment   \n",
       "\n",
       "       DAYS_BIRTH  DAYS_EMPLOYED  work_phone  phone  email occyp_type  \\\n",
       "14900      -14776          -2212           0      0      0    Drivers   \n",
       "\n",
       "       family_size  begin_month  credit  \n",
       "14900          1.0        -30.0     2.0  "
      ]
     },
     "execution_count": 150,
     "metadata": {},
     "output_type": "execute_result"
    }
   ],
   "source": [
    "train[(train.family_size-train.child_num)<0]"
   ]
  },
  {
   "cell_type": "markdown",
   "metadata": {},
   "source": [
    "- 가족 규모에서 자녀수를 뺐을 때 음수가 나올 수 없다고 판단. 한가지 케이스뿐 이지만 이를 삭제해 준다."
   ]
  },
  {
   "cell_type": "code",
   "execution_count": 151,
   "metadata": {},
   "outputs": [],
   "source": [
    "train = train[(train.family_size-train.child_num)>=0]"
   ]
  },
  {
   "cell_type": "code",
   "execution_count": 152,
   "metadata": {},
   "outputs": [
    {
     "data": {
      "text/plain": [
       "(26450, 19)"
      ]
     },
     "execution_count": 152,
     "metadata": {},
     "output_type": "execute_result"
    }
   ],
   "source": [
    "train.shape"
   ]
  },
  {
   "cell_type": "markdown",
   "metadata": {},
   "source": [
    "#### NaN 값 판별"
   ]
  },
  {
   "cell_type": "code",
   "execution_count": 153,
   "metadata": {},
   "outputs": [
    {
     "data": {
      "text/plain": [
       "index               0\n",
       "gender              0\n",
       "car                 0\n",
       "reality             0\n",
       "child_num           0\n",
       "income_total        0\n",
       "income_type         0\n",
       "edu_type            0\n",
       "family_type         0\n",
       "house_type          0\n",
       "DAYS_BIRTH          0\n",
       "DAYS_EMPLOYED       0\n",
       "work_phone          0\n",
       "phone               0\n",
       "email               0\n",
       "occyp_type       8171\n",
       "family_size         0\n",
       "begin_month         0\n",
       "credit              0\n",
       "dtype: int64"
      ]
     },
     "execution_count": 153,
     "metadata": {},
     "output_type": "execute_result"
    }
   ],
   "source": [
    "train.isna().sum()"
   ]
  },
  {
   "cell_type": "markdown",
   "metadata": {},
   "source": [
    "- 직업 유형(occy_type)에 NaN값이 존재한다.\n",
    "- 따라서 직업 유형이 NaN인 경우 무직이므로 이를 문자열 'NaN'으로 대체한다.\n",
    "- index 열은 삭제해 준다."
   ]
  },
  {
   "cell_type": "code",
   "execution_count": 154,
   "metadata": {},
   "outputs": [],
   "source": [
    "train.fillna('NaN', inplace=True)\n",
    "train.drop(['index'], axis=1, inplace=True)"
   ]
  },
  {
   "cell_type": "code",
   "execution_count": 155,
   "metadata": {},
   "outputs": [
    {
     "data": {
      "text/plain": [
       "gender           0\n",
       "car              0\n",
       "reality          0\n",
       "child_num        0\n",
       "income_total     0\n",
       "income_type      0\n",
       "edu_type         0\n",
       "family_type      0\n",
       "house_type       0\n",
       "DAYS_BIRTH       0\n",
       "DAYS_EMPLOYED    0\n",
       "work_phone       0\n",
       "phone            0\n",
       "email            0\n",
       "occyp_type       0\n",
       "family_size      0\n",
       "begin_month      0\n",
       "credit           0\n",
       "dtype: int64"
      ]
     },
     "execution_count": 155,
     "metadata": {},
     "output_type": "execute_result"
    }
   ],
   "source": [
    "train.isna().sum()"
   ]
  },
  {
   "cell_type": "code",
   "execution_count": 156,
   "metadata": {},
   "outputs": [
    {
     "data": {
      "text/plain": [
       "(26450, 18)"
      ]
     },
     "execution_count": 156,
     "metadata": {},
     "output_type": "execute_result"
    }
   ],
   "source": [
    "train.shape"
   ]
  },
  {
   "cell_type": "markdown",
   "metadata": {},
   "source": [
    "## Numerical and Categorical Features"
   ]
  },
  {
   "cell_type": "markdown",
   "metadata": {},
   "source": [
    "- 수치형 데이터와 목록형 데이터 구별"
   ]
  },
  {
   "cell_type": "code",
   "execution_count": 157,
   "metadata": {},
   "outputs": [
    {
     "data": {
      "text/plain": [
       "gender            object\n",
       "car               object\n",
       "reality           object\n",
       "child_num          int64\n",
       "income_total     float64\n",
       "income_type       object\n",
       "edu_type          object\n",
       "family_type       object\n",
       "house_type        object\n",
       "DAYS_BIRTH         int64\n",
       "DAYS_EMPLOYED      int64\n",
       "work_phone         int64\n",
       "phone              int64\n",
       "email              int64\n",
       "occyp_type        object\n",
       "family_size      float64\n",
       "begin_month      float64\n",
       "credit           float64\n",
       "dtype: object"
      ]
     },
     "execution_count": 157,
     "metadata": {},
     "output_type": "execute_result"
    }
   ],
   "source": [
    "train.dtypes"
   ]
  },
  {
   "cell_type": "code",
   "execution_count": 158,
   "metadata": {},
   "outputs": [
    {
     "data": {
      "text/plain": [
       "['gender',\n",
       " 'car',\n",
       " 'reality',\n",
       " 'income_type',\n",
       " 'edu_type',\n",
       " 'family_type',\n",
       " 'house_type',\n",
       " 'occyp_type']"
      ]
     },
     "execution_count": 158,
     "metadata": {},
     "output_type": "execute_result"
    }
   ],
   "source": [
    "cate_feature = train.columns[train.dtypes==object].tolist()\n",
    "cate_feature"
   ]
  },
  {
   "cell_type": "code",
   "execution_count": 159,
   "metadata": {},
   "outputs": [
    {
     "data": {
      "text/plain": [
       "['child_num',\n",
       " 'income_total',\n",
       " 'DAYS_BIRTH',\n",
       " 'DAYS_EMPLOYED',\n",
       " 'work_phone',\n",
       " 'phone',\n",
       " 'email',\n",
       " 'family_size',\n",
       " 'begin_month',\n",
       " 'credit']"
      ]
     },
     "execution_count": 159,
     "metadata": {},
     "output_type": "execute_result"
    }
   ],
   "source": [
    "num_feature = train.columns[train.dtypes!=object].tolist()\n",
    "num_feature"
   ]
  },
  {
   "cell_type": "markdown",
   "metadata": {},
   "source": [
    "### Numeric data 전처리"
   ]
  },
  {
   "cell_type": "code",
   "execution_count": 160,
   "metadata": {},
   "outputs": [
    {
     "data": {
      "text/html": [
       "<div>\n",
       "<style scoped>\n",
       "    .dataframe tbody tr th:only-of-type {\n",
       "        vertical-align: middle;\n",
       "    }\n",
       "\n",
       "    .dataframe tbody tr th {\n",
       "        vertical-align: top;\n",
       "    }\n",
       "\n",
       "    .dataframe thead th {\n",
       "        text-align: right;\n",
       "    }\n",
       "</style>\n",
       "<table border=\"1\" class=\"dataframe\">\n",
       "  <thead>\n",
       "    <tr style=\"text-align: right;\">\n",
       "      <th></th>\n",
       "      <th>child_num</th>\n",
       "      <th>income_total</th>\n",
       "      <th>DAYS_BIRTH</th>\n",
       "      <th>DAYS_EMPLOYED</th>\n",
       "      <th>work_phone</th>\n",
       "      <th>phone</th>\n",
       "      <th>email</th>\n",
       "      <th>family_size</th>\n",
       "      <th>begin_month</th>\n",
       "      <th>credit</th>\n",
       "    </tr>\n",
       "  </thead>\n",
       "  <tbody>\n",
       "    <tr>\n",
       "      <th>0</th>\n",
       "      <td>0</td>\n",
       "      <td>202500.0</td>\n",
       "      <td>-13899</td>\n",
       "      <td>-4709</td>\n",
       "      <td>0</td>\n",
       "      <td>0</td>\n",
       "      <td>0</td>\n",
       "      <td>2.0</td>\n",
       "      <td>-6.0</td>\n",
       "      <td>1.0</td>\n",
       "    </tr>\n",
       "    <tr>\n",
       "      <th>1</th>\n",
       "      <td>1</td>\n",
       "      <td>247500.0</td>\n",
       "      <td>-11380</td>\n",
       "      <td>-1540</td>\n",
       "      <td>0</td>\n",
       "      <td>0</td>\n",
       "      <td>1</td>\n",
       "      <td>3.0</td>\n",
       "      <td>-5.0</td>\n",
       "      <td>1.0</td>\n",
       "    </tr>\n",
       "    <tr>\n",
       "      <th>2</th>\n",
       "      <td>0</td>\n",
       "      <td>450000.0</td>\n",
       "      <td>-19087</td>\n",
       "      <td>-4434</td>\n",
       "      <td>0</td>\n",
       "      <td>1</td>\n",
       "      <td>0</td>\n",
       "      <td>2.0</td>\n",
       "      <td>-22.0</td>\n",
       "      <td>2.0</td>\n",
       "    </tr>\n",
       "    <tr>\n",
       "      <th>3</th>\n",
       "      <td>0</td>\n",
       "      <td>202500.0</td>\n",
       "      <td>-15088</td>\n",
       "      <td>-2092</td>\n",
       "      <td>0</td>\n",
       "      <td>1</td>\n",
       "      <td>0</td>\n",
       "      <td>2.0</td>\n",
       "      <td>-37.0</td>\n",
       "      <td>0.0</td>\n",
       "    </tr>\n",
       "    <tr>\n",
       "      <th>4</th>\n",
       "      <td>0</td>\n",
       "      <td>157500.0</td>\n",
       "      <td>-15037</td>\n",
       "      <td>-2105</td>\n",
       "      <td>0</td>\n",
       "      <td>0</td>\n",
       "      <td>0</td>\n",
       "      <td>2.0</td>\n",
       "      <td>-26.0</td>\n",
       "      <td>2.0</td>\n",
       "    </tr>\n",
       "  </tbody>\n",
       "</table>\n",
       "</div>"
      ],
      "text/plain": [
       "   child_num  income_total  DAYS_BIRTH  DAYS_EMPLOYED  work_phone  phone  \\\n",
       "0          0      202500.0      -13899          -4709           0      0   \n",
       "1          1      247500.0      -11380          -1540           0      0   \n",
       "2          0      450000.0      -19087          -4434           0      1   \n",
       "3          0      202500.0      -15088          -2092           0      1   \n",
       "4          0      157500.0      -15037          -2105           0      0   \n",
       "\n",
       "   email  family_size  begin_month  credit  \n",
       "0      0          2.0         -6.0     1.0  \n",
       "1      1          3.0         -5.0     1.0  \n",
       "2      0          2.0        -22.0     2.0  \n",
       "3      0          2.0        -37.0     0.0  \n",
       "4      0          2.0        -26.0     2.0  "
      ]
     },
     "execution_count": 160,
     "metadata": {},
     "output_type": "execute_result"
    }
   ],
   "source": [
    "train[num_feature].head(5)"
   ]
  },
  {
   "cell_type": "markdown",
   "metadata": {},
   "source": [
    "- DAYS_BIRTH --> Age(양수) 나이로 변환\n",
    "- DAYS_EMPLOYED --> 근속일자는 년차(양수)로 변환\n",
    "- begin_month --> 신용카드 사용월 수는 양수로 변환"
   ]
  },
  {
   "cell_type": "code",
   "execution_count": 161,
   "metadata": {},
   "outputs": [],
   "source": [
    "train.DAYS_BIRTH = train.DAYS_BIRTH//365*(-1)\n",
    "train.rename(columns = {'DAYS_BIRTH' : 'AGE'}, inplace = True)\n",
    "num_feature[num_feature.index('DAYS_BIRTH')] = \"AGE\"\n",
    "\n",
    "train.DAYS_EMPLOYED = train.DAYS_EMPLOYED//365*(-1)\n",
    "train.begin_month = train.begin_month*(-1)"
   ]
  },
  {
   "cell_type": "code",
   "execution_count": 162,
   "metadata": {},
   "outputs": [
    {
     "data": {
      "text/html": [
       "<div>\n",
       "<style scoped>\n",
       "    .dataframe tbody tr th:only-of-type {\n",
       "        vertical-align: middle;\n",
       "    }\n",
       "\n",
       "    .dataframe tbody tr th {\n",
       "        vertical-align: top;\n",
       "    }\n",
       "\n",
       "    .dataframe thead th {\n",
       "        text-align: right;\n",
       "    }\n",
       "</style>\n",
       "<table border=\"1\" class=\"dataframe\">\n",
       "  <thead>\n",
       "    <tr style=\"text-align: right;\">\n",
       "      <th></th>\n",
       "      <th>child_num</th>\n",
       "      <th>income_total</th>\n",
       "      <th>AGE</th>\n",
       "      <th>DAYS_EMPLOYED</th>\n",
       "      <th>work_phone</th>\n",
       "      <th>phone</th>\n",
       "      <th>email</th>\n",
       "      <th>family_size</th>\n",
       "      <th>begin_month</th>\n",
       "      <th>credit</th>\n",
       "    </tr>\n",
       "  </thead>\n",
       "  <tbody>\n",
       "    <tr>\n",
       "      <th>0</th>\n",
       "      <td>0</td>\n",
       "      <td>202500.0</td>\n",
       "      <td>39</td>\n",
       "      <td>13</td>\n",
       "      <td>0</td>\n",
       "      <td>0</td>\n",
       "      <td>0</td>\n",
       "      <td>2.0</td>\n",
       "      <td>6.0</td>\n",
       "      <td>1.0</td>\n",
       "    </tr>\n",
       "    <tr>\n",
       "      <th>1</th>\n",
       "      <td>1</td>\n",
       "      <td>247500.0</td>\n",
       "      <td>32</td>\n",
       "      <td>5</td>\n",
       "      <td>0</td>\n",
       "      <td>0</td>\n",
       "      <td>1</td>\n",
       "      <td>3.0</td>\n",
       "      <td>5.0</td>\n",
       "      <td>1.0</td>\n",
       "    </tr>\n",
       "    <tr>\n",
       "      <th>2</th>\n",
       "      <td>0</td>\n",
       "      <td>450000.0</td>\n",
       "      <td>53</td>\n",
       "      <td>13</td>\n",
       "      <td>0</td>\n",
       "      <td>1</td>\n",
       "      <td>0</td>\n",
       "      <td>2.0</td>\n",
       "      <td>22.0</td>\n",
       "      <td>2.0</td>\n",
       "    </tr>\n",
       "    <tr>\n",
       "      <th>3</th>\n",
       "      <td>0</td>\n",
       "      <td>202500.0</td>\n",
       "      <td>42</td>\n",
       "      <td>6</td>\n",
       "      <td>0</td>\n",
       "      <td>1</td>\n",
       "      <td>0</td>\n",
       "      <td>2.0</td>\n",
       "      <td>37.0</td>\n",
       "      <td>0.0</td>\n",
       "    </tr>\n",
       "    <tr>\n",
       "      <th>4</th>\n",
       "      <td>0</td>\n",
       "      <td>157500.0</td>\n",
       "      <td>42</td>\n",
       "      <td>6</td>\n",
       "      <td>0</td>\n",
       "      <td>0</td>\n",
       "      <td>0</td>\n",
       "      <td>2.0</td>\n",
       "      <td>26.0</td>\n",
       "      <td>2.0</td>\n",
       "    </tr>\n",
       "  </tbody>\n",
       "</table>\n",
       "</div>"
      ],
      "text/plain": [
       "   child_num  income_total  AGE  DAYS_EMPLOYED  work_phone  phone  email  \\\n",
       "0          0      202500.0   39             13           0      0      0   \n",
       "1          1      247500.0   32              5           0      0      1   \n",
       "2          0      450000.0   53             13           0      1      0   \n",
       "3          0      202500.0   42              6           0      1      0   \n",
       "4          0      157500.0   42              6           0      0      0   \n",
       "\n",
       "   family_size  begin_month  credit  \n",
       "0          2.0          6.0     1.0  \n",
       "1          3.0          5.0     1.0  \n",
       "2          2.0         22.0     2.0  \n",
       "3          2.0         37.0     0.0  \n",
       "4          2.0         26.0     2.0  "
      ]
     },
     "execution_count": 162,
     "metadata": {},
     "output_type": "execute_result"
    }
   ],
   "source": [
    "train[num_feature].head(5)"
   ]
  },
  {
   "cell_type": "markdown",
   "metadata": {},
   "source": [
    "### Categorical data 전처리\n",
    "> OrdinalEncoder"
   ]
  },
  {
   "cell_type": "code",
   "execution_count": 163,
   "metadata": {},
   "outputs": [],
   "source": [
    "encoder = OrdinalEncoder()\n",
    "train[cate_feature] = encoder.fit_transform(train[cate_feature])"
   ]
  },
  {
   "cell_type": "code",
   "execution_count": 164,
   "metadata": {},
   "outputs": [
    {
     "data": {
      "text/html": [
       "<div>\n",
       "<style scoped>\n",
       "    .dataframe tbody tr th:only-of-type {\n",
       "        vertical-align: middle;\n",
       "    }\n",
       "\n",
       "    .dataframe tbody tr th {\n",
       "        vertical-align: top;\n",
       "    }\n",
       "\n",
       "    .dataframe thead th {\n",
       "        text-align: right;\n",
       "    }\n",
       "</style>\n",
       "<table border=\"1\" class=\"dataframe\">\n",
       "  <thead>\n",
       "    <tr style=\"text-align: right;\">\n",
       "      <th></th>\n",
       "      <th>gender</th>\n",
       "      <th>car</th>\n",
       "      <th>reality</th>\n",
       "      <th>child_num</th>\n",
       "      <th>income_total</th>\n",
       "      <th>income_type</th>\n",
       "      <th>edu_type</th>\n",
       "      <th>family_type</th>\n",
       "      <th>house_type</th>\n",
       "      <th>AGE</th>\n",
       "      <th>DAYS_EMPLOYED</th>\n",
       "      <th>work_phone</th>\n",
       "      <th>phone</th>\n",
       "      <th>email</th>\n",
       "      <th>occyp_type</th>\n",
       "      <th>family_size</th>\n",
       "      <th>begin_month</th>\n",
       "      <th>credit</th>\n",
       "    </tr>\n",
       "  </thead>\n",
       "  <tbody>\n",
       "    <tr>\n",
       "      <th>0</th>\n",
       "      <td>0.0</td>\n",
       "      <td>0.0</td>\n",
       "      <td>0.0</td>\n",
       "      <td>0</td>\n",
       "      <td>202500.0</td>\n",
       "      <td>0.0</td>\n",
       "      <td>1.0</td>\n",
       "      <td>1.0</td>\n",
       "      <td>2.0</td>\n",
       "      <td>39</td>\n",
       "      <td>13</td>\n",
       "      <td>0</td>\n",
       "      <td>0</td>\n",
       "      <td>0</td>\n",
       "      <td>12.0</td>\n",
       "      <td>2.0</td>\n",
       "      <td>6.0</td>\n",
       "      <td>1.0</td>\n",
       "    </tr>\n",
       "    <tr>\n",
       "      <th>1</th>\n",
       "      <td>0.0</td>\n",
       "      <td>0.0</td>\n",
       "      <td>1.0</td>\n",
       "      <td>1</td>\n",
       "      <td>247500.0</td>\n",
       "      <td>0.0</td>\n",
       "      <td>4.0</td>\n",
       "      <td>0.0</td>\n",
       "      <td>1.0</td>\n",
       "      <td>32</td>\n",
       "      <td>5</td>\n",
       "      <td>0</td>\n",
       "      <td>0</td>\n",
       "      <td>1</td>\n",
       "      <td>8.0</td>\n",
       "      <td>3.0</td>\n",
       "      <td>5.0</td>\n",
       "      <td>1.0</td>\n",
       "    </tr>\n",
       "    <tr>\n",
       "      <th>2</th>\n",
       "      <td>1.0</td>\n",
       "      <td>1.0</td>\n",
       "      <td>1.0</td>\n",
       "      <td>0</td>\n",
       "      <td>450000.0</td>\n",
       "      <td>4.0</td>\n",
       "      <td>1.0</td>\n",
       "      <td>1.0</td>\n",
       "      <td>1.0</td>\n",
       "      <td>53</td>\n",
       "      <td>13</td>\n",
       "      <td>0</td>\n",
       "      <td>1</td>\n",
       "      <td>0</td>\n",
       "      <td>10.0</td>\n",
       "      <td>2.0</td>\n",
       "      <td>22.0</td>\n",
       "      <td>2.0</td>\n",
       "    </tr>\n",
       "    <tr>\n",
       "      <th>3</th>\n",
       "      <td>0.0</td>\n",
       "      <td>0.0</td>\n",
       "      <td>1.0</td>\n",
       "      <td>0</td>\n",
       "      <td>202500.0</td>\n",
       "      <td>0.0</td>\n",
       "      <td>4.0</td>\n",
       "      <td>1.0</td>\n",
       "      <td>1.0</td>\n",
       "      <td>42</td>\n",
       "      <td>6</td>\n",
       "      <td>0</td>\n",
       "      <td>1</td>\n",
       "      <td>0</td>\n",
       "      <td>15.0</td>\n",
       "      <td>2.0</td>\n",
       "      <td>37.0</td>\n",
       "      <td>0.0</td>\n",
       "    </tr>\n",
       "    <tr>\n",
       "      <th>4</th>\n",
       "      <td>0.0</td>\n",
       "      <td>1.0</td>\n",
       "      <td>1.0</td>\n",
       "      <td>0</td>\n",
       "      <td>157500.0</td>\n",
       "      <td>2.0</td>\n",
       "      <td>1.0</td>\n",
       "      <td>1.0</td>\n",
       "      <td>1.0</td>\n",
       "      <td>42</td>\n",
       "      <td>6</td>\n",
       "      <td>0</td>\n",
       "      <td>0</td>\n",
       "      <td>0</td>\n",
       "      <td>10.0</td>\n",
       "      <td>2.0</td>\n",
       "      <td>26.0</td>\n",
       "      <td>2.0</td>\n",
       "    </tr>\n",
       "  </tbody>\n",
       "</table>\n",
       "</div>"
      ],
      "text/plain": [
       "   gender  car  reality  child_num  income_total  income_type  edu_type  \\\n",
       "0     0.0  0.0      0.0          0      202500.0          0.0       1.0   \n",
       "1     0.0  0.0      1.0          1      247500.0          0.0       4.0   \n",
       "2     1.0  1.0      1.0          0      450000.0          4.0       1.0   \n",
       "3     0.0  0.0      1.0          0      202500.0          0.0       4.0   \n",
       "4     0.0  1.0      1.0          0      157500.0          2.0       1.0   \n",
       "\n",
       "   family_type  house_type  AGE  DAYS_EMPLOYED  work_phone  phone  email  \\\n",
       "0          1.0         2.0   39             13           0      0      0   \n",
       "1          0.0         1.0   32              5           0      0      1   \n",
       "2          1.0         1.0   53             13           0      1      0   \n",
       "3          1.0         1.0   42              6           0      1      0   \n",
       "4          1.0         1.0   42              6           0      0      0   \n",
       "\n",
       "   occyp_type  family_size  begin_month  credit  \n",
       "0        12.0          2.0          6.0     1.0  \n",
       "1         8.0          3.0          5.0     1.0  \n",
       "2        10.0          2.0         22.0     2.0  \n",
       "3        15.0          2.0         37.0     0.0  \n",
       "4        10.0          2.0         26.0     2.0  "
      ]
     },
     "execution_count": 164,
     "metadata": {},
     "output_type": "execute_result"
    }
   ],
   "source": [
    "train.head(5)"
   ]
  },
  {
   "cell_type": "markdown",
   "metadata": {},
   "source": [
    "### KMEANS 알고리즘으로 클러스터링한 feature데이터 열을 추가"
   ]
  },
  {
   "cell_type": "code",
   "execution_count": 165,
   "metadata": {},
   "outputs": [],
   "source": [
    "kmeans_train = train.drop(['credit'], axis=1)\n",
    "kmeans = KMeans(n_clusters=15, random_state=1).fit(kmeans_train)\n",
    "train['cluster'] = kmeans.predict(kmeans_train)"
   ]
  },
  {
   "cell_type": "code",
   "execution_count": 166,
   "metadata": {},
   "outputs": [
    {
     "data": {
      "text/html": [
       "<div>\n",
       "<style scoped>\n",
       "    .dataframe tbody tr th:only-of-type {\n",
       "        vertical-align: middle;\n",
       "    }\n",
       "\n",
       "    .dataframe tbody tr th {\n",
       "        vertical-align: top;\n",
       "    }\n",
       "\n",
       "    .dataframe thead th {\n",
       "        text-align: right;\n",
       "    }\n",
       "</style>\n",
       "<table border=\"1\" class=\"dataframe\">\n",
       "  <thead>\n",
       "    <tr style=\"text-align: right;\">\n",
       "      <th></th>\n",
       "      <th>gender</th>\n",
       "      <th>car</th>\n",
       "      <th>reality</th>\n",
       "      <th>child_num</th>\n",
       "      <th>income_total</th>\n",
       "      <th>income_type</th>\n",
       "      <th>edu_type</th>\n",
       "      <th>family_type</th>\n",
       "      <th>house_type</th>\n",
       "      <th>AGE</th>\n",
       "      <th>DAYS_EMPLOYED</th>\n",
       "      <th>work_phone</th>\n",
       "      <th>phone</th>\n",
       "      <th>email</th>\n",
       "      <th>occyp_type</th>\n",
       "      <th>family_size</th>\n",
       "      <th>begin_month</th>\n",
       "      <th>credit</th>\n",
       "      <th>cluster</th>\n",
       "    </tr>\n",
       "  </thead>\n",
       "  <tbody>\n",
       "    <tr>\n",
       "      <th>0</th>\n",
       "      <td>0.0</td>\n",
       "      <td>0.0</td>\n",
       "      <td>0.0</td>\n",
       "      <td>0</td>\n",
       "      <td>202500.0</td>\n",
       "      <td>0.0</td>\n",
       "      <td>1.0</td>\n",
       "      <td>1.0</td>\n",
       "      <td>2.0</td>\n",
       "      <td>39</td>\n",
       "      <td>13</td>\n",
       "      <td>0</td>\n",
       "      <td>0</td>\n",
       "      <td>0</td>\n",
       "      <td>12.0</td>\n",
       "      <td>2.0</td>\n",
       "      <td>6.0</td>\n",
       "      <td>1.0</td>\n",
       "      <td>3</td>\n",
       "    </tr>\n",
       "    <tr>\n",
       "      <th>1</th>\n",
       "      <td>0.0</td>\n",
       "      <td>0.0</td>\n",
       "      <td>1.0</td>\n",
       "      <td>1</td>\n",
       "      <td>247500.0</td>\n",
       "      <td>0.0</td>\n",
       "      <td>4.0</td>\n",
       "      <td>0.0</td>\n",
       "      <td>1.0</td>\n",
       "      <td>32</td>\n",
       "      <td>5</td>\n",
       "      <td>0</td>\n",
       "      <td>0</td>\n",
       "      <td>1</td>\n",
       "      <td>8.0</td>\n",
       "      <td>3.0</td>\n",
       "      <td>5.0</td>\n",
       "      <td>1.0</td>\n",
       "      <td>11</td>\n",
       "    </tr>\n",
       "    <tr>\n",
       "      <th>2</th>\n",
       "      <td>1.0</td>\n",
       "      <td>1.0</td>\n",
       "      <td>1.0</td>\n",
       "      <td>0</td>\n",
       "      <td>450000.0</td>\n",
       "      <td>4.0</td>\n",
       "      <td>1.0</td>\n",
       "      <td>1.0</td>\n",
       "      <td>1.0</td>\n",
       "      <td>53</td>\n",
       "      <td>13</td>\n",
       "      <td>0</td>\n",
       "      <td>1</td>\n",
       "      <td>0</td>\n",
       "      <td>10.0</td>\n",
       "      <td>2.0</td>\n",
       "      <td>22.0</td>\n",
       "      <td>2.0</td>\n",
       "      <td>9</td>\n",
       "    </tr>\n",
       "    <tr>\n",
       "      <th>3</th>\n",
       "      <td>0.0</td>\n",
       "      <td>0.0</td>\n",
       "      <td>1.0</td>\n",
       "      <td>0</td>\n",
       "      <td>202500.0</td>\n",
       "      <td>0.0</td>\n",
       "      <td>4.0</td>\n",
       "      <td>1.0</td>\n",
       "      <td>1.0</td>\n",
       "      <td>42</td>\n",
       "      <td>6</td>\n",
       "      <td>0</td>\n",
       "      <td>1</td>\n",
       "      <td>0</td>\n",
       "      <td>15.0</td>\n",
       "      <td>2.0</td>\n",
       "      <td>37.0</td>\n",
       "      <td>0.0</td>\n",
       "      <td>3</td>\n",
       "    </tr>\n",
       "    <tr>\n",
       "      <th>4</th>\n",
       "      <td>0.0</td>\n",
       "      <td>1.0</td>\n",
       "      <td>1.0</td>\n",
       "      <td>0</td>\n",
       "      <td>157500.0</td>\n",
       "      <td>2.0</td>\n",
       "      <td>1.0</td>\n",
       "      <td>1.0</td>\n",
       "      <td>1.0</td>\n",
       "      <td>42</td>\n",
       "      <td>6</td>\n",
       "      <td>0</td>\n",
       "      <td>0</td>\n",
       "      <td>0</td>\n",
       "      <td>10.0</td>\n",
       "      <td>2.0</td>\n",
       "      <td>26.0</td>\n",
       "      <td>2.0</td>\n",
       "      <td>8</td>\n",
       "    </tr>\n",
       "  </tbody>\n",
       "</table>\n",
       "</div>"
      ],
      "text/plain": [
       "   gender  car  reality  child_num  income_total  income_type  edu_type  \\\n",
       "0     0.0  0.0      0.0          0      202500.0          0.0       1.0   \n",
       "1     0.0  0.0      1.0          1      247500.0          0.0       4.0   \n",
       "2     1.0  1.0      1.0          0      450000.0          4.0       1.0   \n",
       "3     0.0  0.0      1.0          0      202500.0          0.0       4.0   \n",
       "4     0.0  1.0      1.0          0      157500.0          2.0       1.0   \n",
       "\n",
       "   family_type  house_type  AGE  DAYS_EMPLOYED  work_phone  phone  email  \\\n",
       "0          1.0         2.0   39             13           0      0      0   \n",
       "1          0.0         1.0   32              5           0      0      1   \n",
       "2          1.0         1.0   53             13           0      1      0   \n",
       "3          1.0         1.0   42              6           0      1      0   \n",
       "4          1.0         1.0   42              6           0      0      0   \n",
       "\n",
       "   occyp_type  family_size  begin_month  credit  cluster  \n",
       "0        12.0          2.0          6.0     1.0        3  \n",
       "1         8.0          3.0          5.0     1.0       11  \n",
       "2        10.0          2.0         22.0     2.0        9  \n",
       "3        15.0          2.0         37.0     0.0        3  \n",
       "4        10.0          2.0         26.0     2.0        8  "
      ]
     },
     "execution_count": 166,
     "metadata": {},
     "output_type": "execute_result"
    }
   ],
   "source": [
    "train.head(5)"
   ]
  },
  {
   "cell_type": "markdown",
   "metadata": {},
   "source": [
    "### Numerical features scailing\n",
    "> log scailing : income_total의 경우 높은 정수값을 가지고 있어 log스케일로 변환해 준다.    \n",
    "> StandardScaler : 대부분의 이상치를 제거했다고 판단하여 사용에 문제가 없다고 판단했다."
   ]
  },
  {
   "cell_type": "code",
   "execution_count": 167,
   "metadata": {},
   "outputs": [],
   "source": [
    "train.income_total = np.log1p(train.income_total)\n",
    "num_feature.remove('income_total')"
   ]
  },
  {
   "cell_type": "code",
   "execution_count": 168,
   "metadata": {},
   "outputs": [],
   "source": [
    "ss = StandardScaler()\n",
    "train[num_feature[:-1]] = ss.fit_transform(train[num_feature[:-1]])"
   ]
  },
  {
   "cell_type": "code",
   "execution_count": 169,
   "metadata": {},
   "outputs": [
    {
     "data": {
      "text/html": [
       "<div>\n",
       "<style scoped>\n",
       "    .dataframe tbody tr th:only-of-type {\n",
       "        vertical-align: middle;\n",
       "    }\n",
       "\n",
       "    .dataframe tbody tr th {\n",
       "        vertical-align: top;\n",
       "    }\n",
       "\n",
       "    .dataframe thead th {\n",
       "        text-align: right;\n",
       "    }\n",
       "</style>\n",
       "<table border=\"1\" class=\"dataframe\">\n",
       "  <thead>\n",
       "    <tr style=\"text-align: right;\">\n",
       "      <th></th>\n",
       "      <th>gender</th>\n",
       "      <th>car</th>\n",
       "      <th>reality</th>\n",
       "      <th>child_num</th>\n",
       "      <th>income_total</th>\n",
       "      <th>income_type</th>\n",
       "      <th>edu_type</th>\n",
       "      <th>family_type</th>\n",
       "      <th>house_type</th>\n",
       "      <th>AGE</th>\n",
       "      <th>DAYS_EMPLOYED</th>\n",
       "      <th>work_phone</th>\n",
       "      <th>phone</th>\n",
       "      <th>email</th>\n",
       "      <th>occyp_type</th>\n",
       "      <th>family_size</th>\n",
       "      <th>begin_month</th>\n",
       "      <th>credit</th>\n",
       "      <th>cluster</th>\n",
       "    </tr>\n",
       "  </thead>\n",
       "  <tbody>\n",
       "    <tr>\n",
       "      <th>0</th>\n",
       "      <td>0.0</td>\n",
       "      <td>0.0</td>\n",
       "      <td>0.0</td>\n",
       "      <td>-0.589809</td>\n",
       "      <td>12.218500</td>\n",
       "      <td>0.0</td>\n",
       "      <td>1.0</td>\n",
       "      <td>1.0</td>\n",
       "      <td>2.0</td>\n",
       "      <td>-0.452674</td>\n",
       "      <td>0.996514</td>\n",
       "      <td>-0.538334</td>\n",
       "      <td>-0.645649</td>\n",
       "      <td>-0.316983</td>\n",
       "      <td>12.0</td>\n",
       "      <td>-0.216315</td>\n",
       "      <td>-1.215211</td>\n",
       "      <td>1.0</td>\n",
       "      <td>3</td>\n",
       "    </tr>\n",
       "    <tr>\n",
       "      <th>1</th>\n",
       "      <td>0.0</td>\n",
       "      <td>0.0</td>\n",
       "      <td>1.0</td>\n",
       "      <td>0.795174</td>\n",
       "      <td>12.419170</td>\n",
       "      <td>0.0</td>\n",
       "      <td>4.0</td>\n",
       "      <td>0.0</td>\n",
       "      <td>1.0</td>\n",
       "      <td>-1.060664</td>\n",
       "      <td>-0.218915</td>\n",
       "      <td>-0.538334</td>\n",
       "      <td>-0.645649</td>\n",
       "      <td>3.154739</td>\n",
       "      <td>8.0</td>\n",
       "      <td>0.897257</td>\n",
       "      <td>-1.275601</td>\n",
       "      <td>1.0</td>\n",
       "      <td>11</td>\n",
       "    </tr>\n",
       "    <tr>\n",
       "      <th>2</th>\n",
       "      <td>1.0</td>\n",
       "      <td>1.0</td>\n",
       "      <td>1.0</td>\n",
       "      <td>-0.589809</td>\n",
       "      <td>13.017005</td>\n",
       "      <td>4.0</td>\n",
       "      <td>1.0</td>\n",
       "      <td>1.0</td>\n",
       "      <td>1.0</td>\n",
       "      <td>0.763306</td>\n",
       "      <td>0.996514</td>\n",
       "      <td>-0.538334</td>\n",
       "      <td>1.548828</td>\n",
       "      <td>-0.316983</td>\n",
       "      <td>10.0</td>\n",
       "      <td>-0.216315</td>\n",
       "      <td>-0.248968</td>\n",
       "      <td>2.0</td>\n",
       "      <td>9</td>\n",
       "    </tr>\n",
       "    <tr>\n",
       "      <th>3</th>\n",
       "      <td>0.0</td>\n",
       "      <td>0.0</td>\n",
       "      <td>1.0</td>\n",
       "      <td>-0.589809</td>\n",
       "      <td>12.218500</td>\n",
       "      <td>0.0</td>\n",
       "      <td>4.0</td>\n",
       "      <td>1.0</td>\n",
       "      <td>1.0</td>\n",
       "      <td>-0.192107</td>\n",
       "      <td>-0.066986</td>\n",
       "      <td>-0.538334</td>\n",
       "      <td>1.548828</td>\n",
       "      <td>-0.316983</td>\n",
       "      <td>15.0</td>\n",
       "      <td>-0.216315</td>\n",
       "      <td>0.656886</td>\n",
       "      <td>0.0</td>\n",
       "      <td>3</td>\n",
       "    </tr>\n",
       "    <tr>\n",
       "      <th>4</th>\n",
       "      <td>0.0</td>\n",
       "      <td>1.0</td>\n",
       "      <td>1.0</td>\n",
       "      <td>-0.589809</td>\n",
       "      <td>11.967187</td>\n",
       "      <td>2.0</td>\n",
       "      <td>1.0</td>\n",
       "      <td>1.0</td>\n",
       "      <td>1.0</td>\n",
       "      <td>-0.192107</td>\n",
       "      <td>-0.066986</td>\n",
       "      <td>-0.538334</td>\n",
       "      <td>-0.645649</td>\n",
       "      <td>-0.316983</td>\n",
       "      <td>10.0</td>\n",
       "      <td>-0.216315</td>\n",
       "      <td>-0.007407</td>\n",
       "      <td>2.0</td>\n",
       "      <td>8</td>\n",
       "    </tr>\n",
       "  </tbody>\n",
       "</table>\n",
       "</div>"
      ],
      "text/plain": [
       "   gender  car  reality  child_num  income_total  income_type  edu_type  \\\n",
       "0     0.0  0.0      0.0  -0.589809     12.218500          0.0       1.0   \n",
       "1     0.0  0.0      1.0   0.795174     12.419170          0.0       4.0   \n",
       "2     1.0  1.0      1.0  -0.589809     13.017005          4.0       1.0   \n",
       "3     0.0  0.0      1.0  -0.589809     12.218500          0.0       4.0   \n",
       "4     0.0  1.0      1.0  -0.589809     11.967187          2.0       1.0   \n",
       "\n",
       "   family_type  house_type       AGE  DAYS_EMPLOYED  work_phone     phone  \\\n",
       "0          1.0         2.0 -0.452674       0.996514   -0.538334 -0.645649   \n",
       "1          0.0         1.0 -1.060664      -0.218915   -0.538334 -0.645649   \n",
       "2          1.0         1.0  0.763306       0.996514   -0.538334  1.548828   \n",
       "3          1.0         1.0 -0.192107      -0.066986   -0.538334  1.548828   \n",
       "4          1.0         1.0 -0.192107      -0.066986   -0.538334 -0.645649   \n",
       "\n",
       "      email  occyp_type  family_size  begin_month  credit  cluster  \n",
       "0 -0.316983        12.0    -0.216315    -1.215211     1.0        3  \n",
       "1  3.154739         8.0     0.897257    -1.275601     1.0       11  \n",
       "2 -0.316983        10.0    -0.216315    -0.248968     2.0        9  \n",
       "3 -0.316983        15.0    -0.216315     0.656886     0.0        3  \n",
       "4 -0.316983        10.0    -0.216315    -0.007407     2.0        8  "
      ]
     },
     "execution_count": 169,
     "metadata": {},
     "output_type": "execute_result"
    }
   ],
   "source": [
    "train.head(5)"
   ]
  },
  {
   "cell_type": "markdown",
   "metadata": {},
   "source": [
    "## 데이터 분할"
   ]
  },
  {
   "cell_type": "code",
   "execution_count": 170,
   "metadata": {},
   "outputs": [],
   "source": [
    "y = train.credit\n",
    "X = train.drop(['credit'],axis=1)"
   ]
  },
  {
   "cell_type": "code",
   "execution_count": 171,
   "metadata": {},
   "outputs": [],
   "source": [
    "train_x, test_x, train_y, test_y = train_test_split(X, y, test_size=0.3, random_state=1 )"
   ]
  },
  {
   "cell_type": "code",
   "execution_count": 172,
   "metadata": {},
   "outputs": [
    {
     "data": {
      "text/html": [
       "<div>\n",
       "<style scoped>\n",
       "    .dataframe tbody tr th:only-of-type {\n",
       "        vertical-align: middle;\n",
       "    }\n",
       "\n",
       "    .dataframe tbody tr th {\n",
       "        vertical-align: top;\n",
       "    }\n",
       "\n",
       "    .dataframe thead th {\n",
       "        text-align: right;\n",
       "    }\n",
       "</style>\n",
       "<table border=\"1\" class=\"dataframe\">\n",
       "  <thead>\n",
       "    <tr style=\"text-align: right;\">\n",
       "      <th></th>\n",
       "      <th>gender</th>\n",
       "      <th>car</th>\n",
       "      <th>reality</th>\n",
       "      <th>child_num</th>\n",
       "      <th>income_total</th>\n",
       "      <th>income_type</th>\n",
       "      <th>edu_type</th>\n",
       "      <th>family_type</th>\n",
       "      <th>house_type</th>\n",
       "      <th>AGE</th>\n",
       "      <th>DAYS_EMPLOYED</th>\n",
       "      <th>work_phone</th>\n",
       "      <th>phone</th>\n",
       "      <th>email</th>\n",
       "      <th>occyp_type</th>\n",
       "      <th>family_size</th>\n",
       "      <th>begin_month</th>\n",
       "      <th>credit</th>\n",
       "      <th>cluster</th>\n",
       "    </tr>\n",
       "  </thead>\n",
       "  <tbody>\n",
       "    <tr>\n",
       "      <th>0</th>\n",
       "      <td>0.0</td>\n",
       "      <td>0.0</td>\n",
       "      <td>0.0</td>\n",
       "      <td>-0.589809</td>\n",
       "      <td>12.218500</td>\n",
       "      <td>0.0</td>\n",
       "      <td>1.0</td>\n",
       "      <td>1.0</td>\n",
       "      <td>2.0</td>\n",
       "      <td>-0.452674</td>\n",
       "      <td>0.996514</td>\n",
       "      <td>-0.538334</td>\n",
       "      <td>-0.645649</td>\n",
       "      <td>-0.316983</td>\n",
       "      <td>12.0</td>\n",
       "      <td>-0.216315</td>\n",
       "      <td>-1.215211</td>\n",
       "      <td>1.0</td>\n",
       "      <td>3</td>\n",
       "    </tr>\n",
       "    <tr>\n",
       "      <th>1</th>\n",
       "      <td>0.0</td>\n",
       "      <td>0.0</td>\n",
       "      <td>1.0</td>\n",
       "      <td>0.795174</td>\n",
       "      <td>12.419170</td>\n",
       "      <td>0.0</td>\n",
       "      <td>4.0</td>\n",
       "      <td>0.0</td>\n",
       "      <td>1.0</td>\n",
       "      <td>-1.060664</td>\n",
       "      <td>-0.218915</td>\n",
       "      <td>-0.538334</td>\n",
       "      <td>-0.645649</td>\n",
       "      <td>3.154739</td>\n",
       "      <td>8.0</td>\n",
       "      <td>0.897257</td>\n",
       "      <td>-1.275601</td>\n",
       "      <td>1.0</td>\n",
       "      <td>11</td>\n",
       "    </tr>\n",
       "    <tr>\n",
       "      <th>2</th>\n",
       "      <td>1.0</td>\n",
       "      <td>1.0</td>\n",
       "      <td>1.0</td>\n",
       "      <td>-0.589809</td>\n",
       "      <td>13.017005</td>\n",
       "      <td>4.0</td>\n",
       "      <td>1.0</td>\n",
       "      <td>1.0</td>\n",
       "      <td>1.0</td>\n",
       "      <td>0.763306</td>\n",
       "      <td>0.996514</td>\n",
       "      <td>-0.538334</td>\n",
       "      <td>1.548828</td>\n",
       "      <td>-0.316983</td>\n",
       "      <td>10.0</td>\n",
       "      <td>-0.216315</td>\n",
       "      <td>-0.248968</td>\n",
       "      <td>2.0</td>\n",
       "      <td>9</td>\n",
       "    </tr>\n",
       "    <tr>\n",
       "      <th>3</th>\n",
       "      <td>0.0</td>\n",
       "      <td>0.0</td>\n",
       "      <td>1.0</td>\n",
       "      <td>-0.589809</td>\n",
       "      <td>12.218500</td>\n",
       "      <td>0.0</td>\n",
       "      <td>4.0</td>\n",
       "      <td>1.0</td>\n",
       "      <td>1.0</td>\n",
       "      <td>-0.192107</td>\n",
       "      <td>-0.066986</td>\n",
       "      <td>-0.538334</td>\n",
       "      <td>1.548828</td>\n",
       "      <td>-0.316983</td>\n",
       "      <td>15.0</td>\n",
       "      <td>-0.216315</td>\n",
       "      <td>0.656886</td>\n",
       "      <td>0.0</td>\n",
       "      <td>3</td>\n",
       "    </tr>\n",
       "    <tr>\n",
       "      <th>4</th>\n",
       "      <td>0.0</td>\n",
       "      <td>1.0</td>\n",
       "      <td>1.0</td>\n",
       "      <td>-0.589809</td>\n",
       "      <td>11.967187</td>\n",
       "      <td>2.0</td>\n",
       "      <td>1.0</td>\n",
       "      <td>1.0</td>\n",
       "      <td>1.0</td>\n",
       "      <td>-0.192107</td>\n",
       "      <td>-0.066986</td>\n",
       "      <td>-0.538334</td>\n",
       "      <td>-0.645649</td>\n",
       "      <td>-0.316983</td>\n",
       "      <td>10.0</td>\n",
       "      <td>-0.216315</td>\n",
       "      <td>-0.007407</td>\n",
       "      <td>2.0</td>\n",
       "      <td>8</td>\n",
       "    </tr>\n",
       "  </tbody>\n",
       "</table>\n",
       "</div>"
      ],
      "text/plain": [
       "   gender  car  reality  child_num  income_total  income_type  edu_type  \\\n",
       "0     0.0  0.0      0.0  -0.589809     12.218500          0.0       1.0   \n",
       "1     0.0  0.0      1.0   0.795174     12.419170          0.0       4.0   \n",
       "2     1.0  1.0      1.0  -0.589809     13.017005          4.0       1.0   \n",
       "3     0.0  0.0      1.0  -0.589809     12.218500          0.0       4.0   \n",
       "4     0.0  1.0      1.0  -0.589809     11.967187          2.0       1.0   \n",
       "\n",
       "   family_type  house_type       AGE  DAYS_EMPLOYED  work_phone     phone  \\\n",
       "0          1.0         2.0 -0.452674       0.996514   -0.538334 -0.645649   \n",
       "1          0.0         1.0 -1.060664      -0.218915   -0.538334 -0.645649   \n",
       "2          1.0         1.0  0.763306       0.996514   -0.538334  1.548828   \n",
       "3          1.0         1.0 -0.192107      -0.066986   -0.538334  1.548828   \n",
       "4          1.0         1.0 -0.192107      -0.066986   -0.538334 -0.645649   \n",
       "\n",
       "      email  occyp_type  family_size  begin_month  credit  cluster  \n",
       "0 -0.316983        12.0    -0.216315    -1.215211     1.0        3  \n",
       "1  3.154739         8.0     0.897257    -1.275601     1.0       11  \n",
       "2 -0.316983        10.0    -0.216315    -0.248968     2.0        9  \n",
       "3 -0.316983        15.0    -0.216315     0.656886     0.0        3  \n",
       "4 -0.316983        10.0    -0.216315    -0.007407     2.0        8  "
      ]
     },
     "execution_count": 172,
     "metadata": {},
     "output_type": "execute_result"
    }
   ],
   "source": [
    "train.head(5)"
   ]
  },
  {
   "cell_type": "markdown",
   "metadata": {},
   "source": [
    "## Random Forest"
   ]
  },
  {
   "cell_type": "code",
   "execution_count": 173,
   "metadata": {},
   "outputs": [
    {
     "data": {
      "text/plain": [
       "RandomForestClassifier()"
      ]
     },
     "execution_count": 173,
     "metadata": {},
     "output_type": "execute_result"
    }
   ],
   "source": [
    "rf = RandomForestClassifier()\n",
    "rf.fit(train_x, train_y)"
   ]
  },
  {
   "cell_type": "code",
   "execution_count": 174,
   "metadata": {},
   "outputs": [
    {
     "data": {
      "text/plain": [
       "0.8558059372330598"
      ]
     },
     "execution_count": 174,
     "metadata": {},
     "output_type": "execute_result"
    }
   ],
   "source": [
    "log_loss(test_y, rf.predict_proba(test_x))"
   ]
  },
  {
   "cell_type": "markdown",
   "metadata": {},
   "source": [
    "## Catboost"
   ]
  },
  {
   "cell_type": "code",
   "execution_count": 175,
   "metadata": {},
   "outputs": [
    {
     "name": "stderr",
     "output_type": "stream",
     "text": [
      "You should provide test set for use best model. use_best_model parameter has been switched to false value.\n"
     ]
    },
    {
     "name": "stdout",
     "output_type": "stream",
     "text": [
      "Learning rate set to 0.091826\n",
      "0:\tlearn: 1.0484470\ttotal: 12.6ms\tremaining: 12.6s\n",
      "100:\tlearn: 0.7749283\ttotal: 601ms\tremaining: 5.35s\n",
      "200:\tlearn: 0.7401799\ttotal: 1.2s\tremaining: 4.79s\n",
      "300:\tlearn: 0.7102544\ttotal: 1.79s\tremaining: 4.15s\n",
      "400:\tlearn: 0.6844174\ttotal: 2.39s\tremaining: 3.58s\n",
      "500:\tlearn: 0.6621956\ttotal: 3.05s\tremaining: 3.04s\n",
      "600:\tlearn: 0.6415372\ttotal: 3.71s\tremaining: 2.46s\n",
      "700:\tlearn: 0.6233729\ttotal: 4.34s\tremaining: 1.85s\n",
      "800:\tlearn: 0.6072743\ttotal: 4.96s\tremaining: 1.23s\n",
      "900:\tlearn: 0.5921270\ttotal: 5.66s\tremaining: 622ms\n",
      "999:\tlearn: 0.5778569\ttotal: 6.29s\tremaining: 0us\n"
     ]
    },
    {
     "data": {
      "text/plain": [
       "<catboost.core.CatBoostClassifier at 0x7fcc2d670f90>"
      ]
     },
     "execution_count": 175,
     "metadata": {},
     "output_type": "execute_result"
    }
   ],
   "source": [
    "# test_data = Pool(data=test_x, label=test_y)\n",
    "model = CatBoostClassifier()\n",
    "model.fit(train_x, train_y,use_best_model=True, early_stopping_rounds=100, verbose=100)"
   ]
  },
  {
   "cell_type": "code",
   "execution_count": 176,
   "metadata": {},
   "outputs": [
    {
     "data": {
      "text/plain": [
       "0.7471924528689772"
      ]
     },
     "execution_count": 176,
     "metadata": {},
     "output_type": "execute_result"
    }
   ],
   "source": [
    "log_loss(test_y, model.predict_proba(test_x))"
   ]
  },
  {
   "cell_type": "markdown",
   "metadata": {},
   "source": [
    "- Catboost 모델이 더 좋은 결과를 보인 것을 확인."
   ]
  },
  {
   "cell_type": "markdown",
   "metadata": {},
   "source": [
    "## stratifiedkFold\n",
    "- 교차검증을 하기위한 방법.\n",
    "- kfold의 경우 split시에 학습데이터와 검증데이터의 불균형이 생길 우려가 있으므로 이를 극복하기위해 레이블의 분포를 동일하게 가져가는 방법."
   ]
  },
  {
   "cell_type": "code",
   "execution_count": 177,
   "metadata": {},
   "outputs": [
    {
     "name": "stdout",
     "output_type": "stream",
     "text": [
      "---------- CrossValidation ----------\n",
      "Learning rate set to 0.115043\n",
      "0:\tlearn: 1.0356043\ttest: 1.0356707\tbest: 1.0356707 (0)\ttotal: 8.3ms\tremaining: 8.3s\n",
      "100:\tlearn: 0.7659963\ttest: 0.7912435\tbest: 0.7912435 (100)\ttotal: 896ms\tremaining: 7.97s\n",
      "200:\tlearn: 0.7304886\ttest: 0.7783876\tbest: 0.7783876 (200)\ttotal: 1.63s\tremaining: 6.49s\n",
      "300:\tlearn: 0.7007166\ttest: 0.7681292\tbest: 0.7681292 (300)\ttotal: 2.4s\tremaining: 5.58s\n",
      "400:\tlearn: 0.6754727\ttest: 0.7610100\tbest: 0.7610100 (400)\ttotal: 3.28s\tremaining: 4.9s\n",
      "500:\tlearn: 0.6517334\ttest: 0.7554017\tbest: 0.7553451 (492)\ttotal: 4s\tremaining: 3.98s\n",
      "600:\tlearn: 0.6305146\ttest: 0.7508512\tbest: 0.7508512 (600)\ttotal: 4.78s\tremaining: 3.17s\n",
      "700:\tlearn: 0.6127959\ttest: 0.7468453\tbest: 0.7467999 (696)\ttotal: 5.51s\tremaining: 2.35s\n",
      "800:\tlearn: 0.5965768\ttest: 0.7446570\tbest: 0.7446462 (795)\ttotal: 6.31s\tremaining: 1.57s\n",
      "900:\tlearn: 0.5813928\ttest: 0.7426064\tbest: 0.7423873 (897)\ttotal: 7.1s\tremaining: 781ms\n",
      "999:\tlearn: 0.5680863\ttest: 0.7411969\tbest: 0.7411969 (994)\ttotal: 7.79s\tremaining: 0us\n",
      "\n",
      "bestTest = 0.7411968647\n",
      "bestIteration = 994\n",
      "\n",
      "Shrink model to first 995 iterations.\n",
      " logloss : 0.7411968646528809\n",
      "---------- CrossValidation ----------\n",
      "Learning rate set to 0.115043\n",
      "0:\tlearn: 1.0356076\ttest: 1.0356844\tbest: 1.0356844 (0)\ttotal: 10.2ms\tremaining: 10.2s\n",
      "100:\tlearn: 0.7674369\ttest: 0.7902384\tbest: 0.7902384 (100)\ttotal: 730ms\tremaining: 6.5s\n",
      "200:\tlearn: 0.7286239\ttest: 0.7758574\tbest: 0.7758574 (200)\ttotal: 1.42s\tremaining: 5.66s\n",
      "300:\tlearn: 0.6988384\ttest: 0.7666932\tbest: 0.7666932 (300)\ttotal: 2.13s\tremaining: 4.95s\n",
      "400:\tlearn: 0.6749007\ttest: 0.7626461\tbest: 0.7626461 (400)\ttotal: 2.92s\tremaining: 4.36s\n",
      "500:\tlearn: 0.6520947\ttest: 0.7588270\tbest: 0.7586154 (483)\ttotal: 3.67s\tremaining: 3.66s\n",
      "600:\tlearn: 0.6322752\ttest: 0.7538778\tbest: 0.7538526 (584)\ttotal: 4.47s\tremaining: 2.96s\n",
      "700:\tlearn: 0.6144928\ttest: 0.7522101\tbest: 0.7518625 (643)\ttotal: 5.27s\tremaining: 2.25s\n",
      "800:\tlearn: 0.5977775\ttest: 0.7491596\tbest: 0.7491596 (800)\ttotal: 6.11s\tremaining: 1.52s\n",
      "900:\tlearn: 0.5823008\ttest: 0.7477801\tbest: 0.7473729 (884)\ttotal: 6.88s\tremaining: 756ms\n",
      "999:\tlearn: 0.5686447\ttest: 0.7469231\tbest: 0.7469231 (999)\ttotal: 7.65s\tremaining: 0us\n",
      "\n",
      "bestTest = 0.7469231271\n",
      "bestIteration = 999\n",
      "\n",
      " logloss : 0.7469231270563975\n",
      "---------- CrossValidation ----------\n",
      "Learning rate set to 0.115043\n",
      "0:\tlearn: 1.0358510\ttest: 1.0345540\tbest: 1.0345540 (0)\ttotal: 10.9ms\tremaining: 10.9s\n",
      "100:\tlearn: 0.7681270\ttest: 0.7765543\tbest: 0.7765543 (100)\ttotal: 796ms\tremaining: 7.09s\n",
      "200:\tlearn: 0.7343393\ttest: 0.7620067\tbest: 0.7619370 (197)\ttotal: 1.5s\tremaining: 5.97s\n",
      "300:\tlearn: 0.7028543\ttest: 0.7490202\tbest: 0.7489821 (299)\ttotal: 2.23s\tremaining: 5.18s\n",
      "400:\tlearn: 0.6750265\ttest: 0.7409645\tbest: 0.7409645 (400)\ttotal: 2.94s\tremaining: 4.4s\n",
      "500:\tlearn: 0.6513757\ttest: 0.7331019\tbest: 0.7331019 (500)\ttotal: 3.63s\tremaining: 3.62s\n",
      "600:\tlearn: 0.6322936\ttest: 0.7283802\tbest: 0.7283802 (600)\ttotal: 4.31s\tremaining: 2.86s\n",
      "700:\tlearn: 0.6132813\ttest: 0.7252249\tbest: 0.7252249 (700)\ttotal: 4.99s\tremaining: 2.13s\n",
      "800:\tlearn: 0.5966659\ttest: 0.7234157\tbest: 0.7234157 (800)\ttotal: 5.67s\tremaining: 1.41s\n",
      "900:\tlearn: 0.5810201\ttest: 0.7228352\tbest: 0.7225636 (894)\ttotal: 6.35s\tremaining: 698ms\n",
      "999:\tlearn: 0.5669511\ttest: 0.7205152\tbest: 0.7204759 (998)\ttotal: 7.02s\tremaining: 0us\n",
      "\n",
      "bestTest = 0.7204759464\n",
      "bestIteration = 998\n",
      "\n",
      "Shrink model to first 999 iterations.\n",
      " logloss : 0.7204759464228229\n",
      "---------- CrossValidation ----------\n",
      "Learning rate set to 0.115043\n",
      "0:\tlearn: 1.0358538\ttest: 1.0346142\tbest: 1.0346142 (0)\ttotal: 8.39ms\tremaining: 8.38s\n",
      "100:\tlearn: 0.7671614\ttest: 0.7779162\tbest: 0.7779045 (99)\ttotal: 672ms\tremaining: 5.98s\n",
      "200:\tlearn: 0.7298795\ttest: 0.7644022\tbest: 0.7644022 (200)\ttotal: 1.34s\tremaining: 5.35s\n",
      "300:\tlearn: 0.7009227\ttest: 0.7551203\tbest: 0.7551203 (300)\ttotal: 2.02s\tremaining: 4.69s\n",
      "400:\tlearn: 0.6749533\ttest: 0.7488606\tbest: 0.7486798 (388)\ttotal: 2.7s\tremaining: 4.04s\n",
      "500:\tlearn: 0.6512661\ttest: 0.7449302\tbest: 0.7449302 (500)\ttotal: 3.39s\tremaining: 3.37s\n",
      "600:\tlearn: 0.6330423\ttest: 0.7423339\tbest: 0.7423339 (600)\ttotal: 4.07s\tremaining: 2.7s\n",
      "700:\tlearn: 0.6155993\ttest: 0.7390887\tbest: 0.7388306 (695)\ttotal: 4.77s\tremaining: 2.03s\n",
      "800:\tlearn: 0.5982096\ttest: 0.7367506\tbest: 0.7367506 (800)\ttotal: 5.51s\tremaining: 1.37s\n",
      "900:\tlearn: 0.5826762\ttest: 0.7344379\tbest: 0.7341381 (892)\ttotal: 6.19s\tremaining: 681ms\n",
      "999:\tlearn: 0.5696889\ttest: 0.7329088\tbest: 0.7328533 (998)\ttotal: 6.86s\tremaining: 0us\n",
      "\n",
      "bestTest = 0.7328532969\n",
      "bestIteration = 998\n",
      "\n",
      "Shrink model to first 999 iterations.\n",
      " logloss : 0.7328532969403725\n",
      "---------- CrossValidation ----------\n",
      "Learning rate set to 0.115043\n",
      "0:\tlearn: 1.0355681\ttest: 1.0358740\tbest: 1.0358740 (0)\ttotal: 8.72ms\tremaining: 8.71s\n",
      "100:\tlearn: 0.7658234\ttest: 0.7954474\tbest: 0.7954474 (100)\ttotal: 670ms\tremaining: 5.96s\n",
      "200:\tlearn: 0.7277515\ttest: 0.7824901\tbest: 0.7824643 (199)\ttotal: 1.34s\tremaining: 5.34s\n",
      "300:\tlearn: 0.6970580\ttest: 0.7757689\tbest: 0.7756644 (297)\ttotal: 2.03s\tremaining: 4.72s\n",
      "400:\tlearn: 0.6709128\ttest: 0.7699673\tbest: 0.7698963 (398)\ttotal: 2.71s\tremaining: 4.05s\n",
      "500:\tlearn: 0.6490745\ttest: 0.7641587\tbest: 0.7641587 (500)\ttotal: 3.46s\tremaining: 3.45s\n",
      "600:\tlearn: 0.6295794\ttest: 0.7596758\tbest: 0.7595019 (596)\ttotal: 4.15s\tremaining: 2.76s\n",
      "700:\tlearn: 0.6105858\ttest: 0.7559242\tbest: 0.7559166 (699)\ttotal: 4.83s\tremaining: 2.06s\n",
      "800:\tlearn: 0.5938631\ttest: 0.7549974\tbest: 0.7548611 (795)\ttotal: 5.52s\tremaining: 1.37s\n",
      "900:\tlearn: 0.5781467\ttest: 0.7522553\tbest: 0.7522553 (900)\ttotal: 6.22s\tremaining: 683ms\n",
      "999:\tlearn: 0.5639930\ttest: 0.7519541\tbest: 0.7517917 (942)\ttotal: 6.89s\tremaining: 0us\n",
      "\n",
      "bestTest = 0.7517916936\n",
      "bestIteration = 942\n",
      "\n",
      "Shrink model to first 943 iterations.\n",
      " logloss : 0.7517916936035717\n",
      "---------- CrossValidation ----------\n",
      "Learning rate set to 0.115043\n",
      "0:\tlearn: 1.0354461\ttest: 1.0363020\tbest: 1.0363020 (0)\ttotal: 8.88ms\tremaining: 8.87s\n",
      "100:\tlearn: 0.7680765\ttest: 0.7953914\tbest: 0.7953914 (100)\ttotal: 673ms\tremaining: 5.99s\n",
      "200:\tlearn: 0.7312092\ttest: 0.7809994\tbest: 0.7809214 (199)\ttotal: 1.34s\tremaining: 5.34s\n",
      "300:\tlearn: 0.7002965\ttest: 0.7693795\tbest: 0.7693788 (299)\ttotal: 2.02s\tremaining: 4.69s\n",
      "400:\tlearn: 0.6725049\ttest: 0.7624573\tbest: 0.7624573 (400)\ttotal: 2.7s\tremaining: 4.04s\n",
      "500:\tlearn: 0.6496749\ttest: 0.7583515\tbest: 0.7582594 (495)\ttotal: 3.39s\tremaining: 3.38s\n",
      "600:\tlearn: 0.6301410\ttest: 0.7531271\tbest: 0.7530888 (596)\ttotal: 4.08s\tremaining: 2.71s\n",
      "700:\tlearn: 0.6121204\ttest: 0.7492124\tbest: 0.7492124 (700)\ttotal: 4.77s\tremaining: 2.04s\n",
      "800:\tlearn: 0.5952400\ttest: 0.7459983\tbest: 0.7459983 (800)\ttotal: 5.46s\tremaining: 1.36s\n",
      "900:\tlearn: 0.5799464\ttest: 0.7445730\tbest: 0.7444638 (897)\ttotal: 6.15s\tremaining: 675ms\n",
      "999:\tlearn: 0.5671951\ttest: 0.7439818\tbest: 0.7439257 (996)\ttotal: 6.83s\tremaining: 0us\n",
      "\n",
      "bestTest = 0.7439256984\n",
      "bestIteration = 996\n",
      "\n",
      "Shrink model to first 997 iterations.\n",
      " logloss : 0.7439256984495302\n",
      "---------- CrossValidation ----------\n",
      "Learning rate set to 0.115043\n",
      "0:\tlearn: 1.0353941\ttest: 1.0365920\tbest: 1.0365920 (0)\ttotal: 8.32ms\tremaining: 8.31s\n",
      "100:\tlearn: 0.7648836\ttest: 0.8040889\tbest: 0.8040889 (100)\ttotal: 666ms\tremaining: 5.92s\n",
      "200:\tlearn: 0.7279482\ttest: 0.7890522\tbest: 0.7890522 (200)\ttotal: 1.33s\tremaining: 5.3s\n",
      "300:\tlearn: 0.6980699\ttest: 0.7781419\tbest: 0.7781139 (299)\ttotal: 2s\tremaining: 4.65s\n",
      "400:\tlearn: 0.6732758\ttest: 0.7718406\tbest: 0.7718166 (396)\ttotal: 2.68s\tremaining: 4s\n",
      "500:\tlearn: 0.6500263\ttest: 0.7641705\tbest: 0.7641705 (500)\ttotal: 3.36s\tremaining: 3.35s\n",
      "600:\tlearn: 0.6281320\ttest: 0.7578022\tbest: 0.7575113 (598)\ttotal: 4.05s\tremaining: 2.69s\n",
      "700:\tlearn: 0.6104953\ttest: 0.7534711\tbest: 0.7534711 (700)\ttotal: 4.75s\tremaining: 2.02s\n",
      "800:\tlearn: 0.5930554\ttest: 0.7503610\tbest: 0.7503325 (792)\ttotal: 5.43s\tremaining: 1.35s\n",
      "900:\tlearn: 0.5776924\ttest: 0.7488194\tbest: 0.7486174 (896)\ttotal: 6.11s\tremaining: 672ms\n",
      "999:\tlearn: 0.5636115\ttest: 0.7470018\tbest: 0.7467993 (967)\ttotal: 6.79s\tremaining: 0us\n",
      "\n",
      "bestTest = 0.7467993196\n",
      "bestIteration = 967\n",
      "\n",
      "Shrink model to first 968 iterations.\n",
      " logloss : 0.7467993196057857\n",
      "---------- CrossValidation ----------\n",
      "Learning rate set to 0.115043\n",
      "0:\tlearn: 1.0356046\ttest: 1.0356478\tbest: 1.0356478 (0)\ttotal: 8.55ms\tremaining: 8.54s\n"
     ]
    },
    {
     "name": "stdout",
     "output_type": "stream",
     "text": [
      "100:\tlearn: 0.7664729\ttest: 0.7872015\tbest: 0.7872015 (100)\ttotal: 673ms\tremaining: 5.99s\n",
      "200:\tlearn: 0.7286807\ttest: 0.7718533\tbest: 0.7718533 (200)\ttotal: 1.35s\tremaining: 5.36s\n",
      "300:\tlearn: 0.6959202\ttest: 0.7641211\tbest: 0.7639861 (298)\ttotal: 2.03s\tremaining: 4.72s\n",
      "400:\tlearn: 0.6709745\ttest: 0.7587868\tbest: 0.7587868 (400)\ttotal: 2.71s\tremaining: 4.05s\n",
      "500:\tlearn: 0.6488822\ttest: 0.7555138\tbest: 0.7551105 (489)\ttotal: 3.39s\tremaining: 3.38s\n",
      "600:\tlearn: 0.6276869\ttest: 0.7525463\tbest: 0.7525463 (600)\ttotal: 4.07s\tremaining: 2.71s\n",
      "700:\tlearn: 0.6101000\ttest: 0.7508473\tbest: 0.7508078 (699)\ttotal: 4.75s\tremaining: 2.03s\n",
      "800:\tlearn: 0.5925885\ttest: 0.7497280\tbest: 0.7496578 (797)\ttotal: 5.44s\tremaining: 1.35s\n",
      "900:\tlearn: 0.5771076\ttest: 0.7489266\tbest: 0.7488992 (899)\ttotal: 6.16s\tremaining: 677ms\n",
      "999:\tlearn: 0.5636292\ttest: 0.7491821\tbest: 0.7488992 (899)\ttotal: 6.89s\tremaining: 0us\n",
      "\n",
      "bestTest = 0.7488991989\n",
      "bestIteration = 899\n",
      "\n",
      "Shrink model to first 900 iterations.\n",
      " logloss : 0.7488991988605037\n",
      "---------- CrossValidation ----------\n",
      "Learning rate set to 0.115043\n",
      "0:\tlearn: 1.0356098\ttest: 1.0356595\tbest: 1.0356595 (0)\ttotal: 10ms\tremaining: 9.99s\n",
      "100:\tlearn: 0.7659586\ttest: 0.7922023\tbest: 0.7920820 (98)\ttotal: 832ms\tremaining: 7.4s\n",
      "200:\tlearn: 0.7303184\ttest: 0.7790140\tbest: 0.7786811 (193)\ttotal: 1.6s\tremaining: 6.36s\n",
      "300:\tlearn: 0.6999283\ttest: 0.7681160\tbest: 0.7681160 (300)\ttotal: 2.37s\tremaining: 5.49s\n",
      "400:\tlearn: 0.6739673\ttest: 0.7609814\tbest: 0.7609814 (400)\ttotal: 3.12s\tremaining: 4.66s\n",
      "500:\tlearn: 0.6521129\ttest: 0.7567810\tbest: 0.7567810 (500)\ttotal: 3.83s\tremaining: 3.82s\n",
      "600:\tlearn: 0.6325659\ttest: 0.7524271\tbest: 0.7524271 (600)\ttotal: 4.56s\tremaining: 3.03s\n",
      "700:\tlearn: 0.6137961\ttest: 0.7493927\tbest: 0.7493788 (699)\ttotal: 5.32s\tremaining: 2.27s\n",
      "800:\tlearn: 0.5970419\ttest: 0.7462498\tbest: 0.7462498 (800)\ttotal: 6.13s\tremaining: 1.52s\n",
      "900:\tlearn: 0.5816013\ttest: 0.7436366\tbest: 0.7434042 (891)\ttotal: 6.88s\tremaining: 756ms\n",
      "999:\tlearn: 0.5674391\ttest: 0.7416427\tbest: 0.7411617 (983)\ttotal: 7.57s\tremaining: 0us\n",
      "\n",
      "bestTest = 0.741161742\n",
      "bestIteration = 983\n",
      "\n",
      "Shrink model to first 984 iterations.\n",
      " logloss : 0.7411617419673547\n",
      "---------- CrossValidation ----------\n",
      "Learning rate set to 0.115043\n",
      "0:\tlearn: 1.0353374\ttest: 1.0368516\tbest: 1.0368516 (0)\ttotal: 9.37ms\tremaining: 9.36s\n",
      "100:\tlearn: 0.7652746\ttest: 0.8021691\tbest: 0.8021691 (100)\ttotal: 696ms\tremaining: 6.19s\n",
      "200:\tlearn: 0.7270969\ttest: 0.7877648\tbest: 0.7876906 (198)\ttotal: 1.39s\tremaining: 5.54s\n",
      "300:\tlearn: 0.6942056\ttest: 0.7762727\tbest: 0.7762425 (298)\ttotal: 2.09s\tremaining: 4.86s\n",
      "400:\tlearn: 0.6680475\ttest: 0.7689135\tbest: 0.7688738 (399)\ttotal: 2.89s\tremaining: 4.32s\n",
      "500:\tlearn: 0.6464950\ttest: 0.7671661\tbest: 0.7671067 (494)\ttotal: 3.65s\tremaining: 3.63s\n",
      "600:\tlearn: 0.6262988\ttest: 0.7635566\tbest: 0.7634142 (599)\ttotal: 4.45s\tremaining: 2.95s\n",
      "700:\tlearn: 0.6091425\ttest: 0.7614096\tbest: 0.7613897 (698)\ttotal: 5.18s\tremaining: 2.21s\n",
      "800:\tlearn: 0.5931882\ttest: 0.7595853\tbest: 0.7592375 (791)\ttotal: 5.89s\tremaining: 1.46s\n",
      "900:\tlearn: 0.5779646\ttest: 0.7589513\tbest: 0.7583619 (868)\ttotal: 6.66s\tremaining: 732ms\n",
      "999:\tlearn: 0.5638854\ttest: 0.7574604\tbest: 0.7574604 (999)\ttotal: 7.41s\tremaining: 0us\n",
      "\n",
      "bestTest = 0.7574604414\n",
      "bestIteration = 999\n",
      "\n",
      " logloss : 0.7574604413809949\n"
     ]
    }
   ],
   "source": [
    "train = train.reset_index(drop=True)\n",
    "y = train.credit\n",
    "X = train.drop(['credit'],axis=1)\n",
    "\n",
    "stkfold = StratifiedKFold(n_splits=10, shuffle=True, random_state=1)\n",
    "fold_list = list()\n",
    "model_list = list()\n",
    "logloss_list = list()\n",
    "\n",
    "for train_idx, test_idx in stkfold.split(X,y):\n",
    "    print(\"-\"*10+\" CrossValidation \"+\"-\"*10)\n",
    "    train_x = X.iloc[train_idx]\n",
    "    train_y = y[train_idx]\n",
    "    \n",
    "    test_x = X.iloc[test_idx]\n",
    "    test_y = y[test_idx]\n",
    "    \n",
    "    test_set = Pool(data=test_x, label=test_y)\n",
    "    \n",
    "    \n",
    "    model = CatBoostClassifier()\n",
    "    model.fit(train_x, train_y,eval_set=test_set,use_best_model=True, early_stopping_rounds=100, verbose=100)\n",
    "    \n",
    "    ll = log_loss(test_y, model.predict_proba(test_x))\n",
    "\n",
    "    \n",
    "    logloss_list.append(ll)\n",
    "    model_list.append(model)\n",
    "    print(f\" logloss : {ll}\")"
   ]
  },
  {
   "cell_type": "code",
   "execution_count": 178,
   "metadata": {},
   "outputs": [
    {
     "name": "stdout",
     "output_type": "stream",
     "text": [
      "0.7204759464228229\n"
     ]
    }
   ],
   "source": [
    "best_idx = logloss_list.index(min(logloss_list))\n",
    "best_model = model_list[best_idx]\n",
    "print(logloss_list[best_idx])"
   ]
  },
  {
   "cell_type": "code",
   "execution_count": 182,
   "metadata": {},
   "outputs": [],
   "source": [
    "model = best_model"
   ]
  },
  {
   "cell_type": "markdown",
   "metadata": {},
   "source": [
    "## Feature Importance"
   ]
  },
  {
   "cell_type": "code",
   "execution_count": 123,
   "metadata": {},
   "outputs": [
    {
     "data": {
      "text/plain": [
       "array([ 2.26396471,  3.0065195 ,  2.67114529,  2.06562906, 10.35325708,\n",
       "        3.94468359,  4.32498729,  4.21071218,  1.84848495, 13.05109451,\n",
       "       10.01364604,  2.36444713,  2.95092161,  1.14675688,  8.43555583,\n",
       "        2.44699316, 17.40388213,  7.49731906])"
      ]
     },
     "execution_count": 123,
     "metadata": {},
     "output_type": "execute_result"
    }
   ],
   "source": [
    "model.feature_importances_"
   ]
  },
  {
   "cell_type": "code",
   "execution_count": 124,
   "metadata": {},
   "outputs": [
    {
     "name": "stderr",
     "output_type": "stream",
     "text": [
      "/Library/Frameworks/Python.framework/Versions/3.7/lib/python3.7/site-packages/seaborn/_decorators.py:43: FutureWarning: Pass the following variables as keyword args: x, y. From version 0.12, the only valid positional argument will be `data`, and passing other arguments without an explicit keyword will result in an error or misinterpretation.\n",
      "  FutureWarning\n"
     ]
    },
    {
     "data": {
      "text/plain": [
       "<matplotlib.axes._subplots.AxesSubplot at 0x7fcc15bee910>"
      ]
     },
     "execution_count": 124,
     "metadata": {},
     "output_type": "execute_result"
    },
    {
     "data": {
      "image/png": "[encoded data removed]",
      "text/plain": [
       "<Figure size 432x288 with 1 Axes>"
      ]
     },
     "metadata": {
      "needs_background": "light"
     },
     "output_type": "display_data"
    }
   ],
   "source": [
    "sns.barplot(model.feature_importances_, model.feature_names_)"
   ]
  },
  {
   "cell_type": "code",
   "execution_count": null,
   "metadata": {},
   "outputs": [],
   "source": []
  }
 ],
 "metadata": {
  "kernelspec": {
   "display_name": "Python 3",
   "language": "python",
   "name": "python3"
  },
  "language_info": {
   "codemirror_mode": {
    "name": "ipython",
    "version": 3
   },
   "file_extension": ".py",
   "mimetype": "text/x-python",
   "name": "python",
   "nbconvert_exporter": "python",
   "pygments_lexer": "ipython3",
   "version": "3.7.4"
  }
 },
 "nbformat": 4,
 "nbformat_minor": 2
}
